{
 "cells": [
  {
   "cell_type": "code",
   "execution_count": null,
   "id": "dbb8d481",
   "metadata": {},
   "outputs": [],
   "source": [
    "import os\n",
    "from dotenv import load_dotenv\n",
    "\n",
    "# Load environment variables from .env file\n",
    "load_dotenv(override=True)"
   ]
  },
  {
   "cell_type": "code",
   "execution_count": null,
   "id": "082a5e06",
   "metadata": {},
   "outputs": [
    {
     "name": "stdout",
     "output_type": "stream",
     "text": [
      "That's exciting! In Paris, I recommend visiting iconic landmarks such as the Eiffel Tower, Louvre Museum, Notre-Dame Cathedral, and Champs-Élysées. Explore the charming neighborhoods of Montmartre and Le Marais, and enjoy delicious French cuisine at local cafes and bistros. Don't forget to take a relaxing cruise along the Seine River and visit beautiful parks like Luxembourg Gardens. Have a wonderful time exploring the City of Light!\n"
     ]
    }
   ],
   "source": [
    "from openai import AzureOpenAI\n",
    "\n",
    "endpoint = os.getenv(\"AZURE_OPENAI_ENDPOINT\")\n",
    "model_name = \"gpt-35-turbo\"\n",
    "deployment = \"gpt-35-turbo\"\n",
    "\n",
    "subscription_key = os.getenv(\"AZURE_OPENAI_API_KEY\")\n",
    "api_version = \"2024-12-01-preview\"\n",
    "\n",
    "client = AzureOpenAI(\n",
    "    api_version=api_version,\n",
    "    azure_endpoint=endpoint,\n",
    "    api_key=subscription_key,\n",
    ")\n",
    "\n",
    "response = client.chat.completions.create(\n",
    "    messages=[\n",
    "        {\n",
    "            \"role\": \"system\",\n",
    "            \"content\": \"You are a helpful assistant.\",\n",
    "        },\n",
    "        {\n",
    "            \"role\": \"user\",\n",
    "            \"content\": \"I am going to Paris, what should I see?\",\n",
    "        }\n",
    "    ],\n",
    "    max_tokens=4096,\n",
    "    temperature=1.0,\n",
    "    top_p=1.0,\n",
    "    model=deployment\n",
    ")\n",
    "\n",
    "print(response.choices[0].message.content)"
   ]
  },
  {
   "cell_type": "code",
   "execution_count": null,
   "id": "b209e3c4",
   "metadata": {},
   "outputs": [
    {
     "name": "stdout",
     "output_type": "stream",
     "text": [
      "Paris is a city filled with incredible sights, history, and culture. Here are some must-see attractions and activities:\n",
      "\n",
      "### Iconic Landmarks:\n",
      "1. **Eiffel Tower**: Take in breathtaking views from the top or enjoy a picnic in the gardens below.\n",
      "2. **Louvre Museum**: Home to the Mona Lisa and countless other masterpieces. Consider reserving tickets in advance to skip the line.\n",
      "3. **Notre-Dame Cathedral**: Although it's under restoration, the exterior is still magnificent, and you can explore the nearby Île de la Cité.\n",
      "4. **Sacré-Cœur Basilica**: Visit this stunning basilica on the highest point in the city and enjoy views of Paris from the steps.\n",
      "5. **Arc de Triomphe**: Climb to the top for another great view of the Champs-Élysées and the city.\n",
      "\n",
      "### Art and Culture:\n",
      "6. **Musée d'Orsay**: Explore an extensive collection of Impressionist and Post-Impressionist masterpieces housed in a former railway station.\n",
      "7. **Centre Pompidou**: Marvel at the modern art collections and the unconventional architecture of this cultural center.\n",
      "\n",
      "### Neighborhoods:\n",
      "8. **Montmartre**: Stroll through this artistic neighborhood, visit local artists, and see the charming streets.\n",
      "9. **Le Marais**: Discover trendy boutiques, cafés, and art galleries in this historic district. Don’t miss the Place des Vosges.\n",
      "\n",
      "### Parks and Gardens:\n",
      "10. **Luxembourg Gardens**: Relax in these beautiful gardens and enjoy the peaceful atmosphere.\n",
      "11. **Tuileries Garden**: A lovely garden located between the Louvre and Place de la Concorde.\n",
      "\n",
      "### Unique Experiences:\n",
      "12. **Seine River Cruise**: Enjoy a scenic boat cruise on the Seine, particularly lovely at sunset or in the evening.\n",
      "13. **Palace of Versailles**: Take a day trip to explore the opulent palace and its stunning gardens, just outside of Paris.\n",
      "\n",
      "### Food and Drink:\n",
      "14. **Cafés and Bistros**: Experience Parisian café culture at places like Café de Flore or La Coupole.\n",
      "15. **Pastry Shops**: Indulge in croissants, macarons, and other pastries from renowned patisseries like Pierre Hermé or Ladurée.\n",
      "\n",
      "### Local Markets:\n",
      "16. **Rue Cler Market**: A bustling open-air market ideal for sampling local produce, cheese, and more.\n",
      "17. **Marché Bastille**: One of the largest markets in Paris, held on Sundays with a wide variety of goods.\n",
      "\n",
      "### Nightlife:\n",
      "18. **Moulin Rouge**: Consider catching a show at this iconic cabaret for a night of entertainment.\n",
      "\n",
      "### Seasonal Events:\n",
      "19. **Check local events**: Depending on when you're visiting, look for seasonal festivals, exhibitions, or citywide events.\n",
      "\n",
      "Make sure to wear comfortable shoes, as you’ll likely do a lot of walking. Enjoy your trip!\n"
     ]
    }
   ],
   "source": [
    "import os\n",
    "from openai import AzureOpenAI\n",
    "from azure.identity import DefaultAzureCredential, get_bearer_token_provider\n",
    "      \n",
    "endpoint = os.getenv(\"AZURE_OPENAI_ENDPOINT\")\n",
    "deployment = os.getenv(\"DEPLOYMENT_NAME\", \"gpt-4o-mini\")\n",
    "      \n",
    "# Initialize Azure OpenAI client with Entra ID authentication\n",
    "token_provider = get_bearer_token_provider(\n",
    "    DefaultAzureCredential(),\n",
    "    \"https://cognitiveservices.azure.com/.default\"\n",
    ")\n",
    "\n",
    "client = AzureOpenAI(\n",
    "    azure_endpoint=endpoint,\n",
    "    azure_ad_token_provider=token_provider,\n",
    "    api_version=\"2025-01-01-preview\",\n",
    ")\n",
    "\n",
    "response = client.chat.completions.create(\n",
    "    messages=[\n",
    "        {\n",
    "            \"role\": \"system\",\n",
    "            \"content\": \"You are a helpful assistant.\",\n",
    "        },\n",
    "        {\n",
    "            \"role\": \"user\",\n",
    "            \"content\": \"I am going to Paris, what should I see?\",\n",
    "        }\n",
    "    ],\n",
    "    max_tokens=4096,\n",
    "    temperature=1.0,\n",
    "    top_p=1.0,\n",
    "    model=deployment\n",
    ")\n",
    "\n",
    "print(response.choices[0].message.content)"
   ]
  }
 ],
 "metadata": {
  "kernelspec": {
   "display_name": "agents",
   "language": "python",
   "name": "python3"
  },
  "language_info": {
   "codemirror_mode": {
    "name": "ipython",
    "version": 3
   },
   "file_extension": ".py",
   "mimetype": "text/x-python",
   "name": "python",
   "nbconvert_exporter": "python",
   "pygments_lexer": "ipython3",
   "version": "3.12.11"
  }
 },
 "nbformat": 4,
 "nbformat_minor": 5
}
