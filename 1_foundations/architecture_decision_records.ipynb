{
 "cells": [
  {
   "cell_type": "code",
   "execution_count": null,
   "metadata": {},
   "outputs": [],
   "source": [
    "# Import packages\n",
    "from pypdf import PdfReader\n",
    "import gradio as gr\n",
    "from IPython.display import display, Markdown\n",
    "from agents import Agent, Runner, trace, function_tool"
   ]
  },
  {
   "cell_type": "code",
   "execution_count": null,
   "metadata": {},
   "outputs": [],
   "source": [
    "import os\n",
    "from openai import AzureOpenAI\n",
    "from azure.identity import DefaultAzureCredential, get_bearer_token_provider\n",
    "from dotenv import load_dotenv\n",
    "\n",
    "# Load environment variables from .env file\n",
    "load_dotenv(override=True)\n",
    "\n",
    "endpoint = os.getenv(\"AZURE_OPENAI_ENDPOINT\")\n",
    "deployment = os.getenv(\"DEPLOYMENT_NAME\", \"gpt-4o-mini\")\n",
    "\n",
    "# Initialize Azure OpenAI client with Entra ID authentication\n",
    "token_provider = get_bearer_token_provider(\n",
    "    DefaultAzureCredential(),\n",
    "    \"https://cognitiveservices.azure.com/.default\"\n",
    ")\n",
    "\n",
    "openai = AzureOpenAI(\n",
    "    azure_endpoint=endpoint,\n",
    "    azure_ad_token_provider=token_provider,\n",
    "    api_version=\"2025-01-01-preview\",\n",
    ")"
   ]
  },
  {
   "cell_type": "code",
   "execution_count": null,
   "metadata": {},
   "outputs": [],
   "source": [
    "reader = PdfReader(\"files/WS2_Architecture_proposal.pdf\")\n",
    "architecture_proposal = \"\"\n",
    "for page in reader.pages:\n",
    "    text = page.extract_text()\n",
    "    if text:\n",
    "        architecture_proposal += text"
   ]
  },
  {
   "cell_type": "code",
   "execution_count": null,
   "metadata": {},
   "outputs": [],
   "source": [
    "print(architecture_proposal)"
   ]
  },
  {
   "cell_type": "code",
   "execution_count": null,
   "metadata": {},
   "outputs": [],
   "source": [
    "adr_template = \"\"\"---\n",
    "title: ADR Template\n",
    "---\n",
    "\n",
    "---\n",
    "MADR template version: 3.0.0 \n",
    "MADR template source: https://github.com/adr/madr\n",
    "---\n",
    "\n",
    "# ADR Template\n",
    "\n",
    "## Title. \n",
    "*mandatory*  \n",
    "The title assigns a {name} to the AD so that it can be identified and searched for easily. Ideally, it should convey the essence of the problem solved and the solution chosen.\n",
    "\n",
    "## Metadata.\n",
    "*mandatory*  \n",
    "\n",
    "The metadata elements are:\n",
    "\n",
    "| Attribute Name | Description | Format |mandatory optional|\n",
    "| -------------- | ----------- | ------ |------|\n",
    "| status | status of the architecture decision | proposed \\\\| accepted \\\\| rejected \\\\| deprecated \\\\| superseded by | mandatory |\n",
    "| date | when the decision was last updated | {YYYY-MM-DD} | mandatory |\n",
    "| deciders | lists everyone involved in the decision |  | mandatory |\n",
    "| consulted | lists everyone whose opinions are sought and with whom there is a two-way communication |  | optional |\n",
    "| informed | lists everyone who is kept up-to-date on progress in one-way communication |  | optional |\n",
    "\n",
    "### NN additions  \n",
    "*mandatory*\n",
    "\n",
    "| Attribute Name | Description | Format |mandatory optional|\n",
    "| -------------- | ----------- | ------ |------|\n",
    "| Identifier | Unique identifier of the decision | < integer > | mandatory |\n",
    "| Organizational Scope | Identification of the organizational scope to which the architecture decision applies. This scope comprises of one or more predefined organizational units. | NN Group \\\\| < country > \\\\| < BU > \\\\| < country >\\\\\\\\< BU > \\\\| < country >\\\\\\\\< BU >\\\\\\\\< LoB > | mandatory |\n",
    "| Functional Scope | Identification of the functional scope to which the architecture decision applies. This scope comprises of one or more domains, subdomains or digital products, preferably predefined, but free text is acceptable as a minimal viable solution. | < domain > \\\\| < domain >\\\\\\\\< subdomain > \\\\| < domain >\\\\\\\\< subdomain >\\\\\\\\< digital product > | mandatory |\n",
    "\n",
    "## Context and Problem Statement.  \n",
    "*mandatory*  \n",
    "Describes the context and problem statement in a few sentences. One may want to articulate the problem in form of a question or provide an illustrative story that invites to a conversation. Links to collaboration boards or issue management systems can go here too.\n",
    "\n",
    "## Decision Drivers.  \n",
    "*optional*  \n",
    "Desired qualities, forces, faced concerns are identified here:\n",
    "\n",
    "- {decision driver n}\n",
    "\n",
    "## Considered Options.  \n",
    "*mandatory*  \n",
    "This section lists the alternatives (or choices) investigated:\n",
    "\n",
    "- {title/name of option n}\n",
    "\n",
    "The template recommends listing the chosen option first (as a project-wide convention). One needs to make sure to list options that can solve the given problem in the given context (as documented in Section “Context and Problem Statement”). They should do so on the same level of abstraction; a mistake we have seen in practice is that a technology is compared with a product, or an architectural style with a protocol specification and its implementations. Pseudo-alternatives sometimes can be found too, but do not help.\n",
    "\n",
    "## Chosen Option.  \n",
    "*mandatory*  \n",
    "Here, the chosen option is referred to by its title. A justification should be given as well: {name of option 1} because {justification}. Some examples of justifications are: it is the only option that meets a certain k.o. criterion/decision driver; it resolves a particular force; it comes out best when comparing options. \n",
    "\n",
    "## Consequences.  \n",
    "*mandatory*  \n",
    "This section discusses how problem and solution space look like after the decision is made (and enforced).\n",
    "\n",
    "Positive and negative consequences are listed as “Good, because …” and “Bad, because …”, respectively. An example for a positive consequence is an improvement of a desired quality. A negative consequence might be extra effort or risk during implementation.\n",
    "\n",
    "## Validation.  \n",
    "*optional*  \n",
    "This optional section describes how the implementation of/compliance with the ADR is evaluated (aka enforced), for instance by way of a review or a test. See “A Definition of Done for Architectural Decision Making” for related hints.\n",
    "\n",
    "## Pros and Cons of the Options.  \n",
    "*mandatory*  \n",
    "Here, the alternatives that address the problem can be explained and analyzed more thoroughly.\n",
    "\n",
    "The template advises to provide an example or a description of the option. Then, “Good” and “Bad” options properties are asked for. For noteworthy “Neutral” arguments, the template suggests the form\n",
    "\n",
    "Neutral (w.r.t.), because {argument}.\n",
    "\n",
    "## More Information.  \n",
    "*optional*  \n",
    "Here, one might want to provide additional evidence for the decision outcome (possibly including assumptions made) and/or document the team agreement on the decision (including the confidence level) and/or define how this decision should be realized and when it should be re-visited (the optional “Validation” section may also cover this aspect). Links to other decisions and resources might appear in this section as well.\n",
    "\n",
    "Include a reference to the Design Doc that this ADR has originated from. While the ADR is lightweight, the design doc contains more detailed descriptions and diagrams.\n",
    "\"\"\"\n"
   ]
  },
  {
   "cell_type": "code",
   "execution_count": null,
   "metadata": {},
   "outputs": [],
   "source": [
    "system_prompt = f\"You are an experienced software architect. Given the following context, generate an Architecture Decision Record (ADR) in Markdown format. Include the problem, decision, status, alternatives considered, pros/cons, and consequences. \\\n",
    "You are provided via the chat with instructions about what to write the ADR for. \\\n",
    "You must adhere to the structure of the following template: {adr_template}\"\n",
    "\n",
    "system_prompt += f\"\\n\\n## Architecture document:\\n{architecture_proposal}\\n\\n\"\n",
    "system_prompt += f\"With this context, please chat with the user.\"\n",
    "\n",
    "system_prompt += f\"Crucial Rules:\\\n",
    "- You must allow the user to make revisions on the ADR you write.\\\n",
    "- You must ask the user whether the ADR is ready to be handed off, and if so, you must hand it off to the store_adr tool.\"\n"
   ]
  },
  {
   "cell_type": "code",
   "execution_count": null,
   "metadata": {},
   "outputs": [],
   "source": [
    "system_prompt"
   ]
  },
  {
   "cell_type": "code",
   "execution_count": null,
   "metadata": {},
   "outputs": [],
   "source": [
    "def chat(message, history):\n",
    "    messages = [{\"role\": \"system\", \"content\": system_prompt}] + history + [{\"role\": \"user\", \"content\": message}]\n",
    "    response = openai.chat.completions.create(\n",
    "        model=\"gpt-4o-mini\",\n",
    "        messages=messages\n",
    "    )\n",
    "    return response.choices[0].message.content"
   ]
  },
  {
   "cell_type": "code",
   "execution_count": null,
   "metadata": {},
   "outputs": [],
   "source": [
    "gr.ChatInterface(chat, type=\"messages\").launch()"
   ]
  }
 ],
 "metadata": {
  "kernelspec": {
   "display_name": "agents",
   "language": "python",
   "name": "python3"
  },
  "language_info": {
   "codemirror_mode": {
    "name": "ipython",
    "version": 3
   },
   "file_extension": ".py",
   "mimetype": "text/x-python",
   "name": "python",
   "nbconvert_exporter": "python",
   "pygments_lexer": "ipython3",
   "version": "3.12.11"
  }
 },
 "nbformat": 4,
 "nbformat_minor": 2
}
